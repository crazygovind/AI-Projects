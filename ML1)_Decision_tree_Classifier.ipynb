{
  "nbformat": 4,
  "nbformat_minor": 0,
  "metadata": {
    "colab": {
      "provenance": [],
      "authorship_tag": "ABX9TyP1sLhuNqiohG+OLF/q5wEA",
      "include_colab_link": true
    },
    "kernelspec": {
      "name": "python3",
      "display_name": "Python 3"
    },
    "language_info": {
      "name": "python"
    }
  },
  "cells": [
    {
      "cell_type": "markdown",
      "metadata": {
        "id": "view-in-github",
        "colab_type": "text"
      },
      "source": [
        "<a href=\"https://colab.research.google.com/github/crazygovind/Image-Processing-Machine-Learning/blob/master/ML1)_Decision_tree_Classifier.ipynb\" target=\"_parent\"><img src=\"https://colab.research.google.com/assets/colab-badge.svg\" alt=\"Open In Colab\"/></a>"
      ]
    },
    {
      "cell_type": "code",
      "execution_count": 1,
      "metadata": {
        "colab": {
          "base_uri": "https://localhost:8080/"
        },
        "id": "06Uthkzn5rjZ",
        "outputId": "71aabe06-33b6-4af3-d153-f00e0b179920"
      },
      "outputs": [
        {
          "output_type": "stream",
          "name": "stdout",
          "text": [
            "Enter the color of the fruit: red\n",
            "Enter the texture of the fruit: smooth\n",
            "Fruit is an Apple\n"
          ]
        }
      ],
      "source": [
        "#Store number features in variables\n",
        "redcolor=0\n",
        "orangecolor=1\n",
        "smooth=0\n",
        "rough=1\n",
        "apple=0\n",
        "orange=1\n",
        "#Put all data points in an array - features and labels in seperate arrays\n",
        "features=[[redcolor,smooth],[orangecolor,rough],[redcolor,smooth],\n",
        "[redcolor,smooth],[orangecolor,rough],[orangecolor,rough],[redcolor,smooth]]\n",
        "labels=[apple,orange,apple,apple,orange,orange,apple]\n",
        "#import decision tree function from sklearn package and train it on your data\n",
        "from sklearn import tree\n",
        "classifier=tree.DecisionTreeClassifier()\n",
        "classifier.fit(features,labels)\n",
        "#take fresh input from user\n",
        "inputcolor=input('Enter the color of the fruit: ')\n",
        "if (inputcolor=='red' or inputcolor=='redcolor'):\n",
        "  inputcolornew=0\n",
        "else:\n",
        "  inputcolornew=1\n",
        "inputtexture=input('Enter the texture of the fruit: ')\n",
        "if (inputtexture=='smooth'):\n",
        "  inputtexturenew=0\n",
        "else:\n",
        "  inputtexturenew=1\n",
        "#predict output for user's input and print output\n",
        "if(classifier.predict([[inputcolornew,inputtexturenew]])==0):\n",
        "  print('Fruit is an Apple')\n",
        "else:\n",
        "  print('Fruit is an Orange')"
      ]
    }
  ]
}