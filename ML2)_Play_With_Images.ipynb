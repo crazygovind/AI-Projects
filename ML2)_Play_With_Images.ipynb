{
  "nbformat": 4,
  "nbformat_minor": 0,
  "metadata": {
    "colab": {
      "provenance": [],
      "authorship_tag": "ABX9TyOnIStmx2ItTNeL0vaHxB+S",
      "include_colab_link": true
    },
    "kernelspec": {
      "name": "python3",
      "display_name": "Python 3"
    },
    "language_info": {
      "name": "python"
    }
  },
  "cells": [
    {
      "cell_type": "markdown",
      "metadata": {
        "id": "view-in-github",
        "colab_type": "text"
      },
      "source": [
        "<a href=\"https://colab.research.google.com/github/crazygovind/Image-Processing-Machine-Learning/blob/master/ML2)_Play_With_Images.ipynb\" target=\"_parent\"><img src=\"https://colab.research.google.com/assets/colab-badge.svg\" alt=\"Open In Colab\"/></a>"
      ]
    },
    {
      "cell_type": "markdown",
      "source": [
        "#Reading, displaying & writing an image"
      ],
      "metadata": {
        "id": "11tUuNHyLAxr"
      }
    },
    {
      "cell_type": "code",
      "source": [
        "import numpy as np\n",
        "import cv2\n",
        "img = cv2.imread('cat.jpg',1)\n",
        "cv2.imshow('image',img)\n",
        "cv2.waitKey(0)\n",
        "cv2.destroyAllWindows()\n"
      ],
      "metadata": {
        "id": "QOPy1-pQLEq3"
      },
      "execution_count": null,
      "outputs": []
    },
    {
      "cell_type": "code",
      "source": [
        "import numpy as np\n",
        "import cv2\n",
        "img = cv2.imread('cat.jpg')\n",
        "cv2.imshow('image',img)\n",
        "i = cv2.waitKey(0) \n",
        "if i == 27: \n",
        "    cv2.destroyAllWindows()\n",
        "elif i == ord('s'):\n",
        "    cv2.imwrite('cat_saved.jpg',img)\n",
        "cv2.destroyAllWindows()"
      ],
      "metadata": {
        "id": "4VkqZ9hRLILi"
      },
      "execution_count": null,
      "outputs": []
    },
    {
      "cell_type": "code",
      "source": [
        "import numpy as np\n",
        "import cv2\n",
        "from matplotlib import pyplot as plt\n",
        "img = cv2.imread('cat.jpg',0)\n",
        "plt.imshow(img, cmap = 'gray', interpolation = 'bicubic')\n",
        "plt.xticks([]), plt.yticks([])  # to hide tick values on X and Y axis \n",
        "plt.show()"
      ],
      "metadata": {
        "id": "JJlhl-GLLL_8"
      },
      "execution_count": null,
      "outputs": []
    },
    {
      "cell_type": "markdown",
      "source": [
        "#Grayscale and Binary Images\n",
        "It is possible to convert gray scale image to a binary image using a technique called image thresholding. The reason we do this is to further-simplify visual data for analysis.\n",
        "\n",
        "You may be wondering why gray-scale may not be a sufficient simplification. The reason is that gray scale still has at least 255 values. Image thresholding can fundamentally simplify the image by converting everything to white or black, based on a threshold value. We have a pixel values ranging from 0 to 255.\n",
        "\n",
        "Let’s assume that we want the threshold to be 127, then everything that was 127 and under would be converted to 0 (or black)and everything above 127 would be converted to 255 (or white).\n",
        "\n",
        "The OpenCV function used for converting a color image to grayscale is called cv2.cvtColor()"
      ],
      "metadata": {
        "id": "8WK3crShLULA"
      }
    },
    {
      "cell_type": "code",
      "source": [
        "gray = cv2.cvtColor(img,cv2.COLOR_BGR2GRAY)\n",
        "\n",
        "th1, threshold = cv2.threshold(img, 127, 255, cv2.THRESH_BINARY)\n",
        "\n",
        "th2 = cv2.adaptiveThreshold(img,255,cv2.ADAPTIVE_THRESH_MEAN_C,cv2.THRESH_BINARY,11,2)"
      ],
      "metadata": {
        "id": "_cigtZBhLgAa"
      },
      "execution_count": null,
      "outputs": []
    },
    {
      "cell_type": "markdown",
      "source": [
        "#Shrinking and Zooming"
      ],
      "metadata": {
        "id": "eg08kPQJL-at"
      }
    },
    {
      "cell_type": "code",
      "source": [
        "import cv2\n",
        "import numpy as np\n",
        "img = cv2.imread('cat.jpg')\n",
        "res = cv2.resize(img,None,fx=0.1, fy=0.1, interpolation = cv2.INTER_AREA)\n",
        "res = cv2.resize(img,None,fx=10, fy=10, interpolation = cv2.INTER_AREA)"
      ],
      "metadata": {
        "id": "KcNna28zMCJ_"
      },
      "execution_count": null,
      "outputs": []
    },
    {
      "cell_type": "markdown",
      "source": [
        "#Gaussian Blur"
      ],
      "metadata": {
        "id": "sb4SpN9YMFPs"
      }
    },
    {
      "cell_type": "code",
      "source": [
        "cv2.GaussianBlur(image,(kernel_width,kernel_height),standard_deviation)"
      ],
      "metadata": {
        "id": "hIh41JQfMIrB"
      },
      "execution_count": null,
      "outputs": []
    },
    {
      "cell_type": "markdown",
      "source": [
        "#Converting BGR to HSV"
      ],
      "metadata": {
        "id": "s1-YWmayMNfO"
      }
    },
    {
      "cell_type": "code",
      "source": [
        " cv2.cvtColor(input_image, flag)"
      ],
      "metadata": {
        "id": "yaqxOL5aMQR7"
      },
      "execution_count": null,
      "outputs": []
    },
    {
      "cell_type": "markdown",
      "source": [
        "#Putting it all together!"
      ],
      "metadata": {
        "id": "4Kb7lmhiMUB1"
      }
    },
    {
      "cell_type": "code",
      "source": [
        "temp1 = np.concatenate((img1,img2,img3), axis=1)\n",
        "\n",
        "img_final = np.concatenate((temp1,temp2), axis=0)"
      ],
      "metadata": {
        "id": "uI6aI8MUMac9"
      },
      "execution_count": null,
      "outputs": []
    },
    {
      "cell_type": "markdown",
      "source": [
        "#Final Code"
      ],
      "metadata": {
        "id": "pTlUSA3OMlq1"
      }
    },
    {
      "cell_type": "code",
      "source": [
        "import numpy as np\n",
        "import cv2\n",
        "img1 = cv2.imread('cat.jpg')\n",
        "h,w,bpp = np.shape(img1)\n",
        "img_gray = cv2.cvtColor(img1,cv2.COLOR_BGR2GRAY)\n",
        "img2=cv2.merge((img_gray,img_gray,img_gray))\n",
        "th1, img3 = cv2.threshold(img2, 127, 255, cv2.THRESH_BINARY)\n",
        "img4 = cv2.resize(img1,None,fx=0.1, fy=0.1, interpolation = cv2.INTER_AREA)\n",
        "img4 = cv2.resize(img4,None,fx=10, fy=10, interpolation = cv2.INTER_AREA)\n",
        "img5 = cv2.GaussianBlur(img1,(9,9),10)\n",
        "img6 = cv2.cvtColor(img1,cv2.COLOR_BGR2HSV)\n",
        "temp1 = np.concatenate((img1,img2,img3), axis=1)\n",
        "temp2 = np.concatenate((img4,img5,img6), axis=1)\n",
        "img_final = np.concatenate((temp1,temp2), axis=0)\n",
        "cv2.imshow(\"result\",img_final)\n",
        "cv2.waitKey(0)\n",
        "cv2.destroyAllWindows()"
      ],
      "metadata": {
        "id": "RybIgqJyMm8v"
      },
      "execution_count": null,
      "outputs": []
    }
  ]
}