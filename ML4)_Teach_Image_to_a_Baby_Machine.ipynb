{
  "nbformat": 4,
  "nbformat_minor": 0,
  "metadata": {
    "colab": {
      "provenance": [],
      "authorship_tag": "ABX9TyMVnzG25vsSkPd1inNiVdXM",
      "include_colab_link": true
    },
    "kernelspec": {
      "name": "python3",
      "display_name": "Python 3"
    },
    "language_info": {
      "name": "python"
    }
  },
  "cells": [
    {
      "cell_type": "markdown",
      "metadata": {
        "id": "view-in-github",
        "colab_type": "text"
      },
      "source": [
        "<a href=\"https://colab.research.google.com/github/crazygovind/Image-Processing-Machine-Learning/blob/master/ML4)_Teach_Image_to_a_Baby_Machine.ipynb\" target=\"_parent\"><img src=\"https://colab.research.google.com/assets/colab-badge.svg\" alt=\"Open In Colab\"/></a>"
      ]
    },
    {
      "cell_type": "code",
      "execution_count": null,
      "metadata": {
        "id": "AbiGcw6PYlP7"
      },
      "outputs": [],
      "source": [
        "import cv2\n",
        "import numpy as np\n",
        "import os\n",
        "import glob\n",
        "from sklearn import tree\n",
        "from fruit_feature import extract_features\n",
        "\n",
        "# load the training dataset\n",
        "train_path = \"ap-or-database/train\"\n",
        "train_names = os.listdir(train_path)\n",
        "\n",
        "# empty list to hold feature vectors and train labels\n",
        "train_features = []\n",
        "train_labels = []\n",
        "\n",
        "# loop over the training dataset\n",
        "for train_name in train_names:\n",
        "  cur_path = train_path + \"/\" + train_name\n",
        "  cur_label = train_name\n",
        "  i = 1\n",
        "for file in glob.glob(cur_path + \"/*.jpg\"):\n",
        "    print (\"Processing Image - {} in {}\".format(i, cur_label))\n",
        "\n",
        "# read the training image\n",
        "    image = cv2.imread(file)\n",
        "\n",
        "# extract texture and color from the image\n",
        "    features = extract_features(image)\n",
        "\n",
        "# append the feature vector and label\n",
        "    train_features.append(features)\n",
        "    train_labels.append(cur_label)\n",
        "\n",
        "# show loop update\n",
        "    i += 1\n",
        "\n",
        "# create the classifier\n",
        "clf=tree.DecisionTreeClassifier()\n",
        "\n",
        "# train the classifier\n",
        "print (\"Training model..\")\n",
        "clf.fit(train_features, train_labels)\n",
        "\n",
        "# loop over the test images\n",
        "test_path = (\"ap-or-database/test\")\n",
        "for file in glob.glob(test_path + \"/*.jpg\"):\n",
        "\n",
        "# read the input image\n",
        "  image = cv2.imread(file)\n",
        "\n",
        "# extract texture and color from the image\n",
        "  features = extract_features(image)\n",
        "\n",
        "# evaluate the model and predict label\n",
        "prediction = clf.predict(features.reshape(1, -1))[0]\n",
        "\n",
        "# show the label\n",
        "cv2.putText(image, prediction, (20,30), cv2.FONT_HERSHEY_SIMPLEX, 1.0, (235,188,0), 3)\n",
        "print (\"Prediction - {}\".format(prediction))\n",
        "\n",
        "# display the output image\n",
        "cv2.imshow(\"Test_Image\", image)\n",
        "cv2.waitKey(0)\n",
        "cv2.destroyAllWindows()"
      ]
    }
  ]
}