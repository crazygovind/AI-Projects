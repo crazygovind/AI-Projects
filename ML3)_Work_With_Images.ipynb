{
  "nbformat": 4,
  "nbformat_minor": 0,
  "metadata": {
    "colab": {
      "provenance": [],
      "authorship_tag": "ABX9TyMP3Vkr7OTu2HvCENgrsgLi",
      "include_colab_link": true
    },
    "kernelspec": {
      "name": "python3",
      "display_name": "Python 3"
    },
    "language_info": {
      "name": "python"
    }
  },
  "cells": [
    {
      "cell_type": "markdown",
      "metadata": {
        "id": "view-in-github",
        "colab_type": "text"
      },
      "source": [
        "<a href=\"https://colab.research.google.com/github/crazygovind/Image-Processing-Machine-Learning/blob/master/ML3)_Work_With_Images.ipynb\" target=\"_parent\"><img src=\"https://colab.research.google.com/assets/colab-badge.svg\" alt=\"Open In Colab\"/></a>"
      ]
    },
    {
      "cell_type": "markdown",
      "source": [
        "We start off with importing the required modules,"
      ],
      "metadata": {
        "id": "5-oWQNtbNzlg"
      }
    },
    {
      "cell_type": "code",
      "source": [
        "import cv2\n",
        "import numpy as np\n",
        "import math"
      ],
      "metadata": {
        "id": "rDXjU6otN4OE"
      },
      "execution_count": 1,
      "outputs": []
    },
    {
      "cell_type": "markdown",
      "source": [
        "Next, the image is extracted from its location and stored in ‘img’ ,"
      ],
      "metadata": {
        "id": "b6tXXzA-N6o8"
      }
    },
    {
      "cell_type": "code",
      "source": [
        "img=cv2.imread(\"pic1.jpg\")"
      ],
      "metadata": {
        "id": "YQ2S-pL1N9Br"
      },
      "execution_count": 2,
      "outputs": []
    },
    {
      "cell_type": "markdown",
      "source": [
        "and the cascade file is also loaded into ‘face_cascade’"
      ],
      "metadata": {
        "id": "OQ7GDyY_N_E7"
      }
    },
    {
      "cell_type": "code",
      "source": [
        "face_cascade = cv2.CascadeClassifier('haarcascade_frontalface_default.xml')"
      ],
      "metadata": {
        "id": "XmOrzY7jOBf1"
      },
      "execution_count": null,
      "outputs": []
    },
    {
      "cell_type": "markdown",
      "source": [
        "Now come 2 very important lines of code-"
      ],
      "metadata": {
        "id": "WgheHoM6OEyT"
      }
    },
    {
      "cell_type": "code",
      "source": [
        "gray = cv2.cvtColor(img, cv2.COLOR_BGR2GRAY)\n",
        "faces = face_cascade.detectMultiScale(gray, 1.3, 5)"
      ],
      "metadata": {
        "id": "_FBF0iagOHRq"
      },
      "execution_count": null,
      "outputs": []
    },
    {
      "cell_type": "markdown",
      "source": [
        "The first line converts the image from one color space to another(BGR to grayscale in this case). The second line uses the CascadeClassifier::detectMultiScale() function which detects objects of different sizes in the input image and the detected objects are returned as a list of rectangles. More information on this module can be found here .\n",
        "\n",
        "In the next 4 lines, we’re finding faces, their sizes, drawing rectangles, and noting the region of interest(ROI)."
      ],
      "metadata": {
        "id": "6A9YKcDLOKA7"
      }
    },
    {
      "cell_type": "code",
      "source": [
        "for (x,y,w,h) in faces:\n",
        "  cv2.rectangle(img,(x,y),(x+w,y+h),(255,0,0),2)\n",
        "  roi_gray = gray[y:y+h, x:x+w]\n",
        "  roi_color = img[y:y+h, x:x+w]"
      ],
      "metadata": {
        "id": "MGGtZNJSON6m"
      },
      "execution_count": null,
      "outputs": []
    },
    {
      "cell_type": "markdown",
      "source": [
        "Here, (x,y) are the starting indices of the rectangle and (w,h) are the width and height that when added to (x,y) form the rectangle. The second line draws rectangles on the input image.\n",
        "\n",
        "Now, to display the image with the detected faces the following code is used"
      ],
      "metadata": {
        "id": "f5TvdQp_ORBt"
      }
    },
    {
      "cell_type": "code",
      "source": [
        "cv2.imshow(\"Image\",img)\n",
        "k = cv2.waitKey(30) & 0xff\n",
        "if k == 27:\n",
        "  break"
      ],
      "metadata": {
        "id": "JeRXx4MyOT8h"
      },
      "execution_count": null,
      "outputs": []
    },
    {
      "cell_type": "markdown",
      "source": [
        "The first line displays the image in a new window named “Image”. As seen, the last 8 lines of code are written inside an infinite loop (while 1:)."
      ],
      "metadata": {
        "id": "vDbK3sOGOWDx"
      }
    },
    {
      "cell_type": "code",
      "source": [
        "k = cv2.waitKey(30) & 0xff\n",
        "if k == 27:\n",
        "  break"
      ],
      "metadata": {
        "id": "XBmEyLN3OZQo"
      },
      "execution_count": null,
      "outputs": []
    },
    {
      "cell_type": "markdown",
      "source": [
        "displays the image until you press the “Esc” key(breaks the infinite loop).\n",
        "\n",
        "#Final Code"
      ],
      "metadata": {
        "id": "1wREN_LqOcFJ"
      }
    },
    {
      "cell_type": "code",
      "source": [
        "import cv2\n",
        "import numpy as np\n",
        "import math\n",
        "img=cv2.imread(\"name_of_image.extension\")\n",
        "face_cascade = cv2.CascadeClassifier('haarcascade_frontalface_default.xml')\n",
        "gray = cv2.cvtColor(img, cv2.COLOR_BGR2GRAY)\n",
        "faces = face_cascade.detectMultiScale(gray, 1.3, 5)\n",
        "while 1:\n",
        "  for (x,y,w,h) in faces:\n",
        "    cv2.rectangle(img,(x,y),(x+w,y+h),(255,0,0),2)\n",
        "    roi_gray = gray[y:y+h, x:x+w]\n",
        "    roi_color = img[y:y+h, x:x+w]\n",
        "    cv2.imshow(\"Image\",img)\n",
        "    k = cv2.waitKey(30) & 0xff\n",
        "    if k == 27:\n",
        "      break\n",
        "cv2.destroyAllWindows()"
      ],
      "metadata": {
        "id": "-GfMGRVmOnf-"
      },
      "execution_count": null,
      "outputs": []
    }
  ]
}